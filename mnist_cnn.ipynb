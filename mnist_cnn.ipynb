{
 "cells": [
  {
   "cell_type": "code",
   "execution_count": 1,
   "metadata": {},
   "outputs": [],
   "source": [
    "from tensorflow.examples.tutorials.mnist import input_data"
   ]
  },
  {
   "cell_type": "code",
   "execution_count": 2,
   "metadata": {},
   "outputs": [
    {
     "name": "stdout",
     "output_type": "stream",
     "text": [
      "Extracting MNIST_data\\train-images-idx3-ubyte.gz\n",
      "Extracting MNIST_data\\train-labels-idx1-ubyte.gz\n",
      "Extracting MNIST_data\\t10k-images-idx3-ubyte.gz\n",
      "Extracting MNIST_data\\t10k-labels-idx1-ubyte.gz\n"
     ]
    }
   ],
   "source": [
    "mnist = input_data.read_data_sets('MNIST_data', one_hot=True)"
   ]
  },
  {
   "cell_type": "code",
   "execution_count": 3,
   "metadata": {},
   "outputs": [],
   "source": [
    "import tensorflow as tf"
   ]
  },
  {
   "cell_type": "code",
   "execution_count": 5,
   "metadata": {},
   "outputs": [],
   "source": [
    "import time\n",
    "import os,sys\n",
    "import numpy as np\n",
    "from PIL import Image\n",
    "from matplotlib import pylab as plt"
   ]
  },
  {
   "cell_type": "code",
   "execution_count": 6,
   "metadata": {},
   "outputs": [],
   "source": [
    "#時間計測の開始\n",
    "start = time.time()"
   ]
  },
  {
   "cell_type": "code",
   "execution_count": 7,
   "metadata": {},
   "outputs": [],
   "source": [
    "sess = tf.InteractiveSession()"
   ]
  },
  {
   "cell_type": "code",
   "execution_count": 10,
   "metadata": {},
   "outputs": [],
   "source": [
    "#プレースホルダーにてTFに計算を依頼\n",
    "x = tf.placeholder(\"float\", shape=[None, 784]) \n",
    "y_ = tf.placeholder(\"float\", shape=[None, 10])"
   ]
  },
  {
   "cell_type": "markdown",
   "metadata": {},
   "source": [
    "## 重みの初期化"
   ]
  },
  {
   "cell_type": "code",
   "execution_count": 11,
   "metadata": {},
   "outputs": [],
   "source": [
    "###############　多層畳み込みネットワークの構築　####################\n",
    "# 重みの初期化　tf.truncated_nomalではランダムな数値で初期化\n",
    "# 一般に少量のノイズでweightの初期値を決定することで、勾配消失問題や対称性の破れを防ぐ。\n",
    "# 今回はReLUを用いるので、わずかに正のbiasを初期値として与えるのが役に立たない回路をなくす為には、同様に良い方法であろう。\n",
    "\n",
    "def weight_variable(shape):\n",
    "    initial = tf.truncated_normal(shape, stddev=0.1)\n",
    "    return tf.Variable(initial)\n",
    "\n",
    "def bias_variable(shape):\n",
    "    initial = tf.constant(0.1, shape=shape)\n",
    "    return tf.Variable(initial)"
   ]
  },
  {
   "cell_type": "markdown",
   "metadata": {},
   "source": [
    "## 畳み込みとプーリングの設定"
   ]
  },
  {
   "cell_type": "code",
   "execution_count": 12,
   "metadata": {},
   "outputs": [],
   "source": [
    "# 畳み込みではゼロパディング(畳み込み後の出力と入力のサイズが同じになるようにする)を施し、ストライド1でフィルターを動かす。\n",
    "def conv2d(x, W):\n",
    "    return tf.nn.conv2d(x, W, strides=[1, 1, 1, 1], padding='SAME')"
   ]
  },
  {
   "cell_type": "code",
   "execution_count": 14,
   "metadata": {},
   "outputs": [],
   "source": [
    "# プーリングは2×2画素の最大プーリングとする。\n",
    "def max_pool_2x2(x):\n",
    "    return tf.nn.max_pool(x, ksize=[1, 2, 2, 1],\n",
    "                        strides=[1, 2, 2, 1], padding='SAME')"
   ]
  },
  {
   "cell_type": "markdown",
   "metadata": {},
   "source": [
    "## 第一畳み込み層（First Convolutional Layer）の設定"
   ]
  },
  {
   "cell_type": "markdown",
   "metadata": {},
   "source": [
    "##### 5×5のフィルター32種を用いて1チャンネルの画像(1画素につき1つの値(おそらくグレースケール))を処理する。"
   ]
  },
  {
   "cell_type": "code",
   "execution_count": 24,
   "metadata": {},
   "outputs": [],
   "source": [
    "# The first two dimensions are the patch size\n",
    "# The next is the number of input channels, and the last is the number of output channels. \n",
    "W_conv1 = weight_variable( [5, 5, 1, 32] )\n",
    "\n",
    "# We will also have a bias vector with a component for each output channel.\n",
    "b_conv1 = bias_variable([32])"
   ]
  },
  {
   "cell_type": "markdown",
   "metadata": {},
   "source": [
    "#### この層に適応させるために、入力画像のxを4dのテンソルに変形する。"
   ]
  },
  {
   "cell_type": "code",
   "execution_count": 19,
   "metadata": {},
   "outputs": [],
   "source": [
    "# 2d,3dは画像のpx数で、4dは色のチャンネル数(グレースケールなので1), 1dは?\n",
    "x_image = tf.reshape(x, [-1, 28, 28, 1])     "
   ]
  },
  {
   "cell_type": "markdown",
   "metadata": {},
   "source": [
    "#### その後、x_imageを畳み込み、ReLU関数を作用させ、最後に最大プーリングする。"
   ]
  },
  {
   "cell_type": "code",
   "execution_count": 25,
   "metadata": {},
   "outputs": [],
   "source": [
    "# We then convolve x_image with the weight tensor, add the bias, apply the ReLU function, and finally max pool. \n",
    "# The max_pool_2x2 method will reduce the image size to 14x14.\n",
    "\n",
    "h_conv1 = tf.nn.relu(conv2d(x_image, W_conv1) + b_conv1)\n",
    "h_pool1 = max_pool_2x2(h_conv1)"
   ]
  },
  {
   "cell_type": "markdown",
   "metadata": {},
   "source": [
    "## 第二畳み込み層（Second Convolutional Layer）の設定"
   ]
  },
  {
   "cell_type": "markdown",
   "metadata": {},
   "source": [
    "#### 第二層では64の5×5フィルタを用い、64の特徴を計算する。"
   ]
  },
  {
   "cell_type": "code",
   "execution_count": 23,
   "metadata": {},
   "outputs": [],
   "source": [
    "# The second layer will have 64 features for each 5x5 patch.\n",
    "W_conv2 = weight_variable( [5, 5, 32, 64])\n",
    "b_conv2 = bias_variable([64])\n",
    "\n",
    "h_conv2 = tf.nn.relu(conv2d(h_pool1, W_conv2) + b_conv2)\n",
    "h_pool2 = max_pool_2x2(h_conv2)"
   ]
  },
  {
   "cell_type": "markdown",
   "metadata": {},
   "source": [
    "## 全結合層（(Fully connected layers）の設定"
   ]
  },
  {
   "cell_type": "markdown",
   "metadata": {},
   "source": [
    "#### ここまでに画像は7×7（それぞれの画素のチャンネルは64）まで減らされています。1024個の出力を行う全結合層（全ての入力と出力がニューロンで結びついている層）を作成する。"
   ]
  },
  {
   "cell_type": "code",
   "execution_count": 28,
   "metadata": {},
   "outputs": [],
   "source": [
    "# Now that the image size has been reduced to 7x7, we add a fully-connected layer with 1024 neurons to allow processing on the entire image. \n",
    "# We reshape the tensor from the pooling layer into a batch of vectors, multiply by a weight matrix, add a bias, and apply a ReLU.\n",
    "\n",
    "W_fc1 = weight_variable( [7*7*64, 1024] )\n",
    "b_fc1 = bias_variable( [1024] )\n",
    "\n",
    "h_pool2_flat = tf.reshape(h_pool2, [-1, 7*7*64])                 # reshapeにてベクトルに戻す\n",
    "h_fc1 = tf.nn.relu(tf.matmul(h_pool2_flat, W_fc1) + b_fc1)       # 行列演算と重みを加算し活性化させる"
   ]
  },
  {
   "cell_type": "markdown",
   "metadata": {},
   "source": [
    "## ドロップアウトの設定"
   ]
  },
  {
   "cell_type": "markdown",
   "metadata": {},
   "source": [
    "#### 過学習を防ぐために、読みだし層の前にドロップアウトを適用する。"
   ]
  },
  {
   "cell_type": "code",
   "execution_count": 29,
   "metadata": {},
   "outputs": [],
   "source": [
    "# ニューロンからの出力がドロップアウトの間保持される、確率を入れるためのplaceholderを用意する。\n",
    "# これにより学習中にドロップアウトを行い、テスト中には行わないということが可能になる。\n",
    "\n",
    "keep_prob = tf.placeholder(\"float\")\n",
    "h_fc1_drop = tf.nn.dropout(h_fc1, keep_prob)"
   ]
  },
  {
   "cell_type": "markdown",
   "metadata": {},
   "source": [
    "## 読み出し層（Readout Layer）の設定"
   ]
  },
  {
   "cell_type": "code",
   "execution_count": 32,
   "metadata": {},
   "outputs": [],
   "source": [
    "# ソフトマックス関数を適用する。\n",
    "W_fc2 = weight_variable( [1024, 10] )\n",
    "b_fc2 = bias_variable( [10] )\n",
    "\n",
    "y_conv = tf.nn.softmax(tf.matmul(h_fc1_drop, W_fc2) + b_fc2)"
   ]
  },
  {
   "cell_type": "markdown",
   "metadata": {},
   "source": [
    "## モデルの学習と評価（Train and Evaluate the Model）"
   ]
  },
  {
   "cell_type": "markdown",
   "metadata": {},
   "source": [
    "#### for beginersとの違いはgradient descentでの最適化より洗練されたADAMでの最適化を行うことと、keep_prob(ドロップアウトのためのplaceholder)があることと、100回ごとにログを出すことと、2万回ループを回すことである。"
   ]
  },
  {
   "cell_type": "code",
   "execution_count": 33,
   "metadata": {},
   "outputs": [
    {
     "name": "stdout",
     "output_type": "stream",
     "text": [
      "学習回数： 0 回, トレーニングの精度 0.04\n",
      "学習回数： 100 回, トレーニングの精度 0.78\n",
      "学習回数： 200 回, トレーニングの精度 0.96\n",
      "学習回数： 300 回, トレーニングの精度 0.94\n",
      "学習回数： 400 回, トレーニングの精度 0.92\n",
      "学習回数： 500 回, トレーニングの精度 0.9\n",
      "学習回数： 600 回, トレーニングの精度 0.94\n",
      "学習回数： 700 回, トレーニングの精度 0.96\n",
      "学習回数： 800 回, トレーニングの精度 0.92\n",
      "学習回数： 900 回, トレーニングの精度 0.98\n",
      "学習回数： 1000 回, トレーニングの精度 0.94\n",
      "学習回数： 1100 回, トレーニングの精度 0.98\n",
      "学習回数： 1200 回, トレーニングの精度 1\n",
      "学習回数： 1300 回, トレーニングの精度 0.96\n",
      "学習回数： 1400 回, トレーニングの精度 0.96\n",
      "学習回数： 1500 回, トレーニングの精度 1\n",
      "学習回数： 1600 回, トレーニングの精度 0.98\n",
      "学習回数： 1700 回, トレーニングの精度 0.96\n",
      "学習回数： 1800 回, トレーニングの精度 0.98\n",
      "学習回数： 1900 回, トレーニングの精度 1\n",
      "学習回数： 2000 回, トレーニングの精度 0.96\n",
      "学習回数： 2100 回, トレーニングの精度 0.98\n",
      "学習回数： 2200 回, トレーニングの精度 1\n",
      "学習回数： 2300 回, トレーニングの精度 0.96\n",
      "学習回数： 2400 回, トレーニングの精度 0.96\n",
      "学習回数： 2500 回, トレーニングの精度 0.96\n",
      "学習回数： 2600 回, トレーニングの精度 0.96\n",
      "学習回数： 2700 回, トレーニングの精度 0.98\n",
      "学習回数： 2800 回, トレーニングの精度 0.92\n",
      "学習回数： 2900 回, トレーニングの精度 1\n",
      "学習回数： 3000 回, トレーニングの精度 1\n",
      "学習回数： 3100 回, トレーニングの精度 0.98\n",
      "学習回数： 3200 回, トレーニングの精度 0.98\n",
      "学習回数： 3300 回, トレーニングの精度 1\n",
      "学習回数： 3400 回, トレーニングの精度 0.96\n",
      "学習回数： 3500 回, トレーニングの精度 1\n",
      "学習回数： 3600 回, トレーニングの精度 1\n",
      "学習回数： 3700 回, トレーニングの精度 1\n",
      "学習回数： 3800 回, トレーニングの精度 1\n",
      "学習回数： 3900 回, トレーニングの精度 1\n",
      "学習回数： 4000 回, トレーニングの精度 0.98\n",
      "学習回数： 4100 回, トレーニングの精度 1\n",
      "学習回数： 4200 回, トレーニングの精度 1\n",
      "学習回数： 4300 回, トレーニングの精度 0.96\n",
      "学習回数： 4400 回, トレーニングの精度 0.98\n",
      "学習回数： 4500 回, トレーニングの精度 1\n",
      "学習回数： 4600 回, トレーニングの精度 1\n",
      "学習回数： 4700 回, トレーニングの精度 1\n",
      "学習回数： 4800 回, トレーニングの精度 1\n",
      "学習回数： 4900 回, トレーニングの精度 1\n",
      "学習回数： 5000 回, トレーニングの精度 1\n",
      "学習回数： 5100 回, トレーニングの精度 1\n",
      "学習回数： 5200 回, トレーニングの精度 1\n",
      "学習回数： 5300 回, トレーニングの精度 0.94\n",
      "学習回数： 5400 回, トレーニングの精度 0.98\n",
      "学習回数： 5500 回, トレーニングの精度 1\n",
      "学習回数： 5600 回, トレーニングの精度 0.98\n",
      "学習回数： 5700 回, トレーニングの精度 0.96\n",
      "学習回数： 5800 回, トレーニングの精度 1\n",
      "学習回数： 5900 回, トレーニングの精度 1\n",
      "学習回数： 6000 回, トレーニングの精度 1\n",
      "学習回数： 6100 回, トレーニングの精度 0.98\n",
      "学習回数： 6200 回, トレーニングの精度 0.98\n",
      "学習回数： 6300 回, トレーニングの精度 1\n",
      "学習回数： 6400 回, トレーニングの精度 1\n",
      "学習回数： 6500 回, トレーニングの精度 0.98\n",
      "学習回数： 6600 回, トレーニングの精度 1\n",
      "学習回数： 6700 回, トレーニングの精度 1\n",
      "学習回数： 6800 回, トレーニングの精度 0.98\n",
      "学習回数： 6900 回, トレーニングの精度 1\n",
      "学習回数： 7000 回, トレーニングの精度 1\n",
      "学習回数： 7100 回, トレーニングの精度 1\n",
      "学習回数： 7200 回, トレーニングの精度 1\n",
      "学習回数： 7300 回, トレーニングの精度 0.98\n",
      "学習回数： 7400 回, トレーニングの精度 1\n",
      "学習回数： 7500 回, トレーニングの精度 1\n",
      "学習回数： 7600 回, トレーニングの精度 1\n",
      "学習回数： 7700 回, トレーニングの精度 0.98\n",
      "学習回数： 7800 回, トレーニングの精度 1\n",
      "学習回数： 7900 回, トレーニングの精度 0.98\n",
      "学習回数： 8000 回, トレーニングの精度 0.98\n",
      "学習回数： 8100 回, トレーニングの精度 1\n",
      "学習回数： 8200 回, トレーニングの精度 1\n",
      "学習回数： 8300 回, トレーニングの精度 1\n",
      "学習回数： 8400 回, トレーニングの精度 1\n",
      "学習回数： 8500 回, トレーニングの精度 1\n",
      "学習回数： 8600 回, トレーニングの精度 1\n",
      "学習回数： 8700 回, トレーニングの精度 0.98\n",
      "学習回数： 8800 回, トレーニングの精度 1\n",
      "学習回数： 8900 回, トレーニングの精度 0.98\n",
      "学習回数： 9000 回, トレーニングの精度 1\n",
      "学習回数： 9100 回, トレーニングの精度 0.98\n",
      "学習回数： 9200 回, トレーニングの精度 0.98\n",
      "学習回数： 9300 回, トレーニングの精度 1\n",
      "学習回数： 9400 回, トレーニングの精度 1\n",
      "学習回数： 9500 回, トレーニングの精度 1\n",
      "学習回数： 9600 回, トレーニングの精度 1\n",
      "学習回数： 9700 回, トレーニングの精度 0.98\n",
      "学習回数： 9800 回, トレーニングの精度 1\n",
      "学習回数： 9900 回, トレーニングの精度 1\n",
      "学習回数： 10000 回, トレーニングの精度 1\n",
      "学習回数： 10100 回, トレーニングの精度 1\n",
      "学習回数： 10200 回, トレーニングの精度 1\n",
      "学習回数： 10300 回, トレーニングの精度 1\n",
      "学習回数： 10400 回, トレーニングの精度 1\n",
      "学習回数： 10500 回, トレーニングの精度 1\n",
      "学習回数： 10600 回, トレーニングの精度 0.96\n",
      "学習回数： 10700 回, トレーニングの精度 1\n",
      "学習回数： 10800 回, トレーニングの精度 1\n",
      "学習回数： 10900 回, トレーニングの精度 1\n",
      "学習回数： 11000 回, トレーニングの精度 1\n",
      "学習回数： 11100 回, トレーニングの精度 1\n",
      "学習回数： 11200 回, トレーニングの精度 1\n",
      "学習回数： 11300 回, トレーニングの精度 1\n",
      "学習回数： 11400 回, トレーニングの精度 1\n",
      "学習回数： 11500 回, トレーニングの精度 1\n",
      "学習回数： 11600 回, トレーニングの精度 1\n",
      "学習回数： 11700 回, トレーニングの精度 1\n",
      "学習回数： 11800 回, トレーニングの精度 1\n",
      "学習回数： 11900 回, トレーニングの精度 1\n",
      "学習回数： 12000 回, トレーニングの精度 1\n",
      "学習回数： 12100 回, トレーニングの精度 1\n",
      "学習回数： 12200 回, トレーニングの精度 1\n",
      "学習回数： 12300 回, トレーニングの精度 1\n",
      "学習回数： 12400 回, トレーニングの精度 1\n",
      "学習回数： 12500 回, トレーニングの精度 1\n",
      "学習回数： 12600 回, トレーニングの精度 1\n",
      "学習回数： 12700 回, トレーニングの精度 1\n",
      "学習回数： 12800 回, トレーニングの精度 1\n",
      "学習回数： 12900 回, トレーニングの精度 0.98\n",
      "学習回数： 13000 回, トレーニングの精度 1\n",
      "学習回数： 13100 回, トレーニングの精度 1\n",
      "学習回数： 13200 回, トレーニングの精度 1\n",
      "学習回数： 13300 回, トレーニングの精度 1\n",
      "学習回数： 13400 回, トレーニングの精度 1\n",
      "学習回数： 13500 回, トレーニングの精度 1\n",
      "学習回数： 13600 回, トレーニングの精度 1\n",
      "学習回数： 13700 回, トレーニングの精度 1\n",
      "学習回数： 13800 回, トレーニングの精度 1\n",
      "学習回数： 13900 回, トレーニングの精度 1\n",
      "学習回数： 14000 回, トレーニングの精度 1\n",
      "学習回数： 14100 回, トレーニングの精度 1\n",
      "学習回数： 14200 回, トレーニングの精度 1\n",
      "学習回数： 14300 回, トレーニングの精度 1\n",
      "学習回数： 14400 回, トレーニングの精度 1\n",
      "学習回数： 14500 回, トレーニングの精度 1\n",
      "学習回数： 14600 回, トレーニングの精度 1\n",
      "学習回数： 14700 回, トレーニングの精度 1\n",
      "学習回数： 14800 回, トレーニングの精度 1\n",
      "学習回数： 14900 回, トレーニングの精度 1\n",
      "学習回数： 15000 回, トレーニングの精度 1\n",
      "学習回数： 15100 回, トレーニングの精度 1\n",
      "学習回数： 15200 回, トレーニングの精度 1\n",
      "学習回数： 15300 回, トレーニングの精度 1\n",
      "学習回数： 15400 回, トレーニングの精度 1\n",
      "学習回数： 15500 回, トレーニングの精度 1\n",
      "学習回数： 15600 回, トレーニングの精度 1\n",
      "学習回数： 15700 回, トレーニングの精度 1\n",
      "学習回数： 15800 回, トレーニングの精度 0.98\n",
      "学習回数： 15900 回, トレーニングの精度 1\n",
      "学習回数： 16000 回, トレーニングの精度 1\n",
      "学習回数： 16100 回, トレーニングの精度 0.98\n",
      "学習回数： 16200 回, トレーニングの精度 0.98\n",
      "学習回数： 16300 回, トレーニングの精度 1\n",
      "学習回数： 16400 回, トレーニングの精度 1\n",
      "学習回数： 16500 回, トレーニングの精度 0.98\n",
      "学習回数： 16600 回, トレーニングの精度 1\n",
      "学習回数： 16700 回, トレーニングの精度 1\n",
      "学習回数： 16800 回, トレーニングの精度 1\n",
      "学習回数： 16900 回, トレーニングの精度 1\n",
      "学習回数： 17000 回, トレーニングの精度 1\n",
      "学習回数： 17100 回, トレーニングの精度 1\n",
      "学習回数： 17200 回, トレーニングの精度 1\n",
      "学習回数： 17300 回, トレーニングの精度 1\n",
      "学習回数： 17400 回, トレーニングの精度 1\n",
      "学習回数： 17500 回, トレーニングの精度 1\n",
      "学習回数： 17600 回, トレーニングの精度 1\n",
      "学習回数： 17700 回, トレーニングの精度 1\n",
      "学習回数： 17800 回, トレーニングの精度 1\n",
      "学習回数： 17900 回, トレーニングの精度 1\n",
      "学習回数： 18000 回, トレーニングの精度 1\n",
      "学習回数： 18100 回, トレーニングの精度 1\n",
      "学習回数： 18200 回, トレーニングの精度 1\n",
      "学習回数： 18300 回, トレーニングの精度 1\n",
      "学習回数： 18400 回, トレーニングの精度 1\n",
      "学習回数： 18500 回, トレーニングの精度 0.98\n",
      "学習回数： 18600 回, トレーニングの精度 1\n",
      "学習回数： 18700 回, トレーニングの精度 1\n",
      "学習回数： 18800 回, トレーニングの精度 1\n",
      "学習回数： 18900 回, トレーニングの精度 1\n",
      "学習回数： 19000 回, トレーニングの精度 1\n",
      "学習回数： 19100 回, トレーニングの精度 1\n",
      "学習回数： 19200 回, トレーニングの精度 1\n",
      "学習回数： 19300 回, トレーニングの精度 1\n",
      "学習回数： 19400 回, トレーニングの精度 1\n",
      "学習回数： 19500 回, トレーニングの精度 1\n",
      "学習回数： 19600 回, トレーニングの精度 1\n",
      "学習回数： 19700 回, トレーニングの精度 1\n",
      "学習回数： 19800 回, トレーニングの精度 1\n",
      "学習回数： 19900 回, トレーニングの精度 1\n"
     ]
    }
   ],
   "source": [
    "# コスト関数'クロスエントロピー'の定義\n",
    "cross_entropy = -tf.reduce_sum(y_*tf.log(y_conv))\n",
    "#最急降下法の定義\n",
    "train_step = tf.train.AdamOptimizer(1e-4).minimize(cross_entropy)\n",
    "\n",
    "# 評価を行う(正解率の算出)\n",
    "correct_predition = tf.equal(tf.argmax(y_conv, 1), tf.argmax(y_, 1))\n",
    "accuracy = tf.reduce_mean(tf.cast(correct_predition, \"float\"))\n",
    "\n",
    "# 初期化\n",
    "sess.run(tf.global_variables_initializer())\n",
    "\n",
    "for i in range(20000):\n",
    "    batch = mnist.train.next_batch(50)\n",
    "    if i%100 ==0:\n",
    "        train_accuracy = accuracy.eval(feed_dict={x:batch[0], y_:batch[1], keep_prob: 1.0})\n",
    "        print(\"学習回数： %d 回, トレーニングの精度 %g\"%(i, train_accuracy))\n",
    "    train_step.run(feed_dict={x:batch[0], y_:batch[1], keep_prob:0.5})"
   ]
  },
  {
   "cell_type": "code",
   "execution_count": 35,
   "metadata": {},
   "outputs": [
    {
     "name": "stdout",
     "output_type": "stream",
     "text": [
      "この学習の正解率は 0.9909 です\n"
     ]
    }
   ],
   "source": [
    "#学習結果の表示\n",
    "print(\"この学習の正解率は %g です\"%accuracy.eval(feed_dict={ x: mnist.test.images, y_:mnist.test.labels, keep_prob: 1.0}))"
   ]
  },
  {
   "cell_type": "code",
   "execution_count": 36,
   "metadata": {},
   "outputs": [],
   "source": [
    "def img_recognition(filename):\n",
    "    #グレースケールとして画像の読み込み\n",
    "    img = Image.open(filename).convert('L')\n",
    "    plt.imshow(img)\n",
    "    #画像を28x28に変換\n",
    "    img.thumbnail((28, 28))\n",
    "    #フロート型の行列に変換\n",
    "    img = np.array(img, dtype=np.float32)\n",
    "    #黒0~255白の画像データをMNISTのデータと同じ白0~1黒に変える\n",
    "    img = 1 - np.array(img / 255)\n",
    "    img = img.reshape(1, 784)\n",
    "    #学習データと読み込んだ数値との比較を行う\n",
    "    p = sess.run(y_conv, feed_dict={x:img, y_: [[0.0] * 10], keep_prob: 0.5})[0]\n",
    "    \n",
    "      #最も可能性のある数字を表示\n",
    "    print(filename+\"の数字は\")\n",
    "    print(np.argmax(p))"
   ]
  },
  {
   "cell_type": "code",
   "execution_count": 38,
   "metadata": {},
   "outputs": [
    {
     "name": "stdout",
     "output_type": "stream",
     "text": [
      "./TestData/one.pngの数字は\n",
      "1\n"
     ]
    },
    {
     "data": {
      "image/png": "[encoded data removed]",
      "text/plain": [
       "<Figure size 432x288 with 1 Axes>"
      ]
     },
     "metadata": {},
     "output_type": "display_data"
    }
   ],
   "source": [
    "img_recognition(\"./TestData/one.png\")"
   ]
  },
  {
   "cell_type": "code",
   "execution_count": 39,
   "metadata": {},
   "outputs": [
    {
     "name": "stdout",
     "output_type": "stream",
     "text": [
      "./TestData/two.pngの数字は\n",
      "2\n"
     ]
    },
    {
     "data": {
      "image/png": "[encoded data removed]",
      "text/plain": [
       "<Figure size 432x288 with 1 Axes>"
      ]
     },
     "metadata": {},
     "output_type": "display_data"
    }
   ],
   "source": [
    "img_recognition(\"./TestData/two.png\")"
   ]
  },
  {
   "cell_type": "code",
   "execution_count": 40,
   "metadata": {},
   "outputs": [
    {
     "name": "stdout",
     "output_type": "stream",
     "text": [
      "./TestData/three.pngの数字は\n",
      "3\n"
     ]
    },
    {
     "data": {
      "image/png": "[encoded data removed]",
      "text/plain": [
       "<Figure size 432x288 with 1 Axes>"
      ]
     },
     "metadata": {},
     "output_type": "display_data"
    }
   ],
   "source": [
    "img_recognition(\"./TestData/three.png\")"
   ]
  },
  {
   "cell_type": "code",
   "execution_count": 41,
   "metadata": {},
   "outputs": [
    {
     "name": "stdout",
     "output_type": "stream",
     "text": [
      "./TestData/four.pngの数字は\n",
      "4\n"
     ]
    },
    {
     "data": {
      "image/png": "[encoded data removed]",
      "text/plain": [
       "<Figure size 432x288 with 1 Axes>"
      ]
     },
     "metadata": {},
     "output_type": "display_data"
    }
   ],
   "source": [
    "img_recognition(\"./TestData/four.png\")"
   ]
  },
  {
   "cell_type": "code",
   "execution_count": 42,
   "metadata": {},
   "outputs": [
    {
     "name": "stdout",
     "output_type": "stream",
     "text": [
      "./TestData/five.pngの数字は\n",
      "5\n"
     ]
    },
    {
     "data": {
      "image/png": "[encoded data removed]",
      "text/plain": [
       "<Figure size 432x288 with 1 Axes>"
      ]
     },
     "metadata": {},
     "output_type": "display_data"
    }
   ],
   "source": [
    "img_recognition(\"./TestData/five.png\")"
   ]
  },
  {
   "cell_type": "code",
   "execution_count": 45,
   "metadata": {},
   "outputs": [
    {
     "name": "stdout",
     "output_type": "stream",
     "text": [
      "./TestData/six.pngの数字は\n",
      "6\n"
     ]
    },
    {
     "data": {
      "image/png": "[encoded data removed]",
      "text/plain": [
       "<Figure size 432x288 with 1 Axes>"
      ]
     },
     "metadata": {},
     "output_type": "display_data"
    }
   ],
   "source": [
    "img_recognition(\"./TestData/six.png\")"
   ]
  },
  {
   "cell_type": "code",
   "execution_count": 46,
   "metadata": {},
   "outputs": [
    {
     "name": "stdout",
     "output_type": "stream",
     "text": [
      "./TestData/seven.pngの数字は\n",
      "7\n"
     ]
    },
    {
     "data": {
      "image/png": "[encoded data removed]",
      "text/plain": [
       "<Figure size 432x288 with 1 Axes>"
      ]
     },
     "metadata": {},
     "output_type": "display_data"
    }
   ],
   "source": [
    "img_recognition(\"./TestData/seven.png\")"
   ]
  },
  {
   "cell_type": "code",
   "execution_count": 47,
   "metadata": {},
   "outputs": [
    {
     "name": "stdout",
     "output_type": "stream",
     "text": [
      "./TestData/eight.pngの数字は\n",
      "8\n"
     ]
    },
    {
     "data": {
      "image/png": "[encoded data removed]",
      "text/plain": [
       "<Figure size 432x288 with 1 Axes>"
      ]
     },
     "metadata": {},
     "output_type": "display_data"
    }
   ],
   "source": [
    "img_recognition(\"./TestData/eight.png\")"
   ]
  },
  {
   "cell_type": "code",
   "execution_count": 68,
   "metadata": {},
   "outputs": [
    {
     "name": "stdout",
     "output_type": "stream",
     "text": [
      "./TestData/nine.pngの数字は\n",
      "4\n"
     ]
    },
    {
     "data": {
      "image/png": "[encoded data removed]",
      "text/plain": [
       "<Figure size 432x288 with 1 Axes>"
      ]
     },
     "metadata": {},
     "output_type": "display_data"
    }
   ],
   "source": [
    "img_recognition(\"./TestData/nine.png\")"
   ]
  }
 ],
 "metadata": {
  "kernelspec": {
   "display_name": "Python 3",
   "language": "python",
   "name": "python3"
  },
  "language_info": {
   "codemirror_mode": {
    "name": "ipython",
    "version": 3
   },
   "file_extension": ".py",
   "mimetype": "text/x-python",
   "name": "python",
   "nbconvert_exporter": "python",
   "pygments_lexer": "ipython3",
   "version": "3.6.4"
  }
 },
 "nbformat": 4,
 "nbformat_minor": 2
}
